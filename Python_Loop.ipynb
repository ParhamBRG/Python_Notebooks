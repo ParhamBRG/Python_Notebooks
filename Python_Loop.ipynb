{
 "cells": [
  {
   "cell_type": "markdown",
   "metadata": {},
   "source": [
    "# Python Loops\n",
    "\n",
    "## Table of Contents\n",
    "1. Introduction to Loops\n",
    "2. `for` Loops\n",
    "3. `while` Loops\n",
    "4. Loop Control Statements\n",
    "5. Exercises\n",
    "\n",
    "## 1. Introduction to Loops\n",
    "\n",
    "In programming, loops are used to repeatedly execute a block of code until a certain condition is met. Python has two main types of loops: `for` and `while`."
   ]
  },
  {
   "cell_type": "markdown",
   "metadata": {},
   "source": [
    "## 2. `for` Loops\n",
    "\n",
    "A `for` loop is used for iterating over a sequence (that is either a list, tuple, dictionary, string, or range).\n",
    "\n",
    "```python\n",
    "# Example of a for loop\n",
    "fruits = [\"apple\", \"banana\", \"cherry\"]\n",
    "for fruit in fruits:\n",
    "    print(fruit)"
   ]
  },
  {
   "cell_type": "code",
   "execution_count": null,
   "metadata": {},
   "outputs": [],
   "source": [
    "# Example of a for loop\n",
    "fruits = [\"apple\", \"banana\", \"cherry\"]\n",
    "for fruit in fruits:\n",
    "    print(fruit)\n"
   ]
  },
  {
   "cell_type": "markdown",
   "metadata": {},
   "source": [
    "# 3. `while` Loops\n",
    "\n",
    "A `while` loop is used to repeatedly execute a block of code as long as the specified condition is true. The general syntax of a `while` loop is as follows:\n",
    "\n",
    "```python\n",
    "while condition:\n",
    "    # Code to be executed while the condition is true\n",
    "\n",
    "# Example of a while loop\n",
    "counter = 0\n",
    "while counter < 5:\n",
    "    print(counter)\n",
    "    counter += 1"
   ]
  },
  {
   "cell_type": "code",
   "execution_count": null,
   "metadata": {},
   "outputs": [],
   "source": [
    "# Example of a while loop\n",
    "counter = 0\n",
    "while counter < 5:\n",
    "    print(counter)\n",
    "    counter += 1"
   ]
  },
  {
   "cell_type": "markdown",
   "metadata": {},
   "source": [
    "# 4. Loop Control Statements\n",
    "\n",
    "Python provides several loop control statements that allow you to modify the behavior of loops:\n",
    "\n",
    "### `break` Statement\n",
    "\n",
    "The `break` statement is used to terminate a loop prematurely. When the `break` statement is encountered inside a loop, the loop is immediately terminated, and the program continues with the next statement after the loop.\n",
    "\n",
    "```python\n",
    "# Example of the break statement\n",
    "for i in range(10):\n",
    "    if i == 3:\n",
    "        break\n",
    "    print(i)\n"
   ]
  },
  {
   "cell_type": "code",
   "execution_count": null,
   "metadata": {},
   "outputs": [],
   "source": [
    "# Example of the break statement\n",
    "for i in range(10):\n",
    "    if i == 3:\n",
    "        break\n",
    "    print(i)"
   ]
  },
  {
   "cell_type": "markdown",
   "metadata": {},
   "source": [
    "### `continue` Statement\n",
    "\n",
    "The `continue` statement is used to skip the rest of the code inside the loop for the current iteration and move to the next iteration. It is particularly useful when you want to skip certain conditions or iterations and continue with the next iteration of the loop.\n",
    "\n",
    "#### Example:\n",
    "\n",
    "```python\n",
    "# Example of the continue statement\n",
    "for i in range(5):\n",
    "    if i == 2:\n",
    "        continue\n",
    "    print(i)\n"
   ]
  },
  {
   "cell_type": "code",
   "execution_count": null,
   "metadata": {},
   "outputs": [],
   "source": [
    "# Example of the continue statement\n",
    "for i in range(5):\n",
    "    if i == 2:\n",
    "        continue\n",
    "    print(i)\n"
   ]
  },
  {
   "cell_type": "markdown",
   "metadata": {},
   "source": [
    "### `pass` Statement\n",
    "\n",
    "The `pass` statement does nothing. It is used as a placeholder when a statement is syntactically required but you don't want any action to be taken. This statement is often used as a stub or a placeholder for code that will be added later.\n",
    "\n",
    "## Example:\n",
    "\n",
    "```python\n",
    "# Example of the pass statement\n",
    "for i in range(5):\n",
    "    if i == 2:\n",
    "        pass\n",
    "    else:\n",
    "        print(i)\n"
   ]
  },
  {
   "cell_type": "code",
   "execution_count": null,
   "metadata": {},
   "outputs": [],
   "source": [
    "# Example of the pass statement\n",
    "for i in range(5):\n",
    "    if i == 2:\n",
    "        pass\n",
    "    else:\n",
    "        print(i)\n"
   ]
  },
  {
   "cell_type": "markdown",
   "metadata": {},
   "source": [
    "# 5. Exercises"
   ]
  },
  {
   "cell_type": "markdown",
   "metadata": {},
   "source": [
    "#### **Exercise 1**: `for Loop`\n",
    "\n",
    "Write a Python program that prints the squares of numbers from 1 to 5 using a `for` loop."
   ]
  },
  {
   "cell_type": "code",
   "execution_count": null,
   "metadata": {},
   "outputs": [],
   "source": [
    "# Exercise 1\n",
    "\n",
    "\n",
    "\n"
   ]
  },
  {
   "cell_type": "markdown",
   "metadata": {},
   "source": [
    "#### **Exercise 2**: `while Loop`\n",
    "\n",
    "Write a Python program that prints the Fibonacci sequence up to the 10th term using a `while` loop."
   ]
  },
  {
   "cell_type": "code",
   "execution_count": null,
   "metadata": {},
   "outputs": [],
   "source": [
    "# Exercise 2\n",
    "\n",
    "\n",
    "\n"
   ]
  },
  {
   "cell_type": "markdown",
   "metadata": {},
   "source": [
    "#### **Exercise 3**: `Loop Control Statements`\n",
    "\n",
    "Modify the code inside the loop to skip printing even numbers and stop the loop when reaching the first multiple of 5."
   ]
  },
  {
   "cell_type": "code",
   "execution_count": null,
   "metadata": {},
   "outputs": [],
   "source": [
    "# Exercise 3\n",
    "\n",
    "\n",
    "\n"
   ]
  },
  {
   "cell_type": "markdown",
   "metadata": {},
   "source": [
    "#### **Exercise 4**: `Nested Loops`\n",
    "\n",
    "Write a Python program that uses nested loops to print the following pattern:\n",
    "\n",
    "```\n",
    "1\n",
    "22\n",
    "333\n",
    "4444\n",
    "55555\n",
    "\n",
    "```"
   ]
  },
  {
   "cell_type": "code",
   "execution_count": null,
   "metadata": {},
   "outputs": [],
   "source": [
    "# Exercise 4\n",
    "\n",
    "\n",
    "\n",
    "\n"
   ]
  },
  {
   "cell_type": "markdown",
   "metadata": {},
   "source": [
    "#### **Exercise 5**: `Password Checker`\n",
    "\n",
    "Write a Python program that asks the user to enter a password. Use a while loop to continue asking for the password until the user enters the correct password. Provide a message indicating success."
   ]
  },
  {
   "cell_type": "code",
   "execution_count": null,
   "metadata": {},
   "outputs": [],
   "source": [
    "# Exercise 5\n",
    "\n",
    "\n",
    "\n",
    "\n"
   ]
  },
  {
   "cell_type": "markdown",
   "metadata": {},
   "source": [
    "#### **Exercise 6**: `Pattern Recognition`\n",
    "Write a Python program that prints the following pattern using a loop:\n",
    "\n",
    "```\n",
    "*\n",
    "**\n",
    "***\n",
    "****\n",
    "*****\n",
    "```"
   ]
  },
  {
   "cell_type": "code",
   "execution_count": null,
   "metadata": {},
   "outputs": [],
   "source": [
    "# Exercise 6\n",
    "\n",
    "\n",
    "\n",
    "\n"
   ]
  }
 ],
 "metadata": {
  "kernelspec": {
   "display_name": "base",
   "language": "python",
   "name": "python3"
  },
  "language_info": {
   "name": "python",
   "version": "3.11.5"
  }
 },
 "nbformat": 4,
 "nbformat_minor": 2
}
