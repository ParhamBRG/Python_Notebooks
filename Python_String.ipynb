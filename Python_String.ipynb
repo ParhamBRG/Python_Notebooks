{
  "cells": [
    {
      "cell_type": "markdown",
      "metadata": {
        "id": "OTrGwfak14p4"
      },
      "source": [
        "# Introduction to Python Strings\n",
        "\n",
        "## Basics of Strings\n",
        "\n",
        "### 1. Creating Strings\n",
        "\n",
        "Strings in Python can be created using single quotes (`'`) or double quotes (`\"`) and for multiple line (`\"\"\"`)."
      ]
    },
    {
      "cell_type": "code",
      "execution_count": null,
      "metadata": {
        "id": "MqxXgrm12Ggc"
      },
      "outputs": [],
      "source": [
        "single_quoted_string = 'Hello, World!'\n",
        "double_quoted_string = \"Python is fun!\"\n",
        "multiple_line_String = \"\"\"Hello, World!\n",
        "Python is fun!\"\"\""
      ]
    },
    {
      "cell_type": "markdown",
      "metadata": {
        "id": "k-VVZlUq2AOG"
      },
      "source": [
        "### 2. String Concatenation\n",
        "Strings can be concatenated using the + operator."
      ]
    },
    {
      "cell_type": "code",
      "execution_count": null,
      "metadata": {
        "colab": {
          "base_uri": "https://localhost:8080/"
        },
        "id": "WrRTF_9E13QQ",
        "outputId": "fbfdebe4-5cc5-4625-8e31-afcd2742a2db"
      },
      "outputs": [],
      "source": [
        "first_name = 'Parham'\n",
        "last_name = 'Barzegaran'\n",
        "full_name = first_name + ' ' + last_name\n",
        "print(full_name)"
      ]
    },
    {
      "cell_type": "markdown",
      "metadata": {
        "id": "luuGsKNk2OoS"
      },
      "source": [
        "### 3. String Indexing and Slicing\n",
        "Strings are indexed from 0. You can access individual characters using indexing and obtain substrings using slicing."
      ]
    },
    {
      "cell_type": "code",
      "execution_count": null,
      "metadata": {
        "colab": {
          "base_uri": "https://localhost:8080/"
        },
        "id": "6rAnDhG_2Rkg",
        "outputId": "c7c990b7-872d-48f9-b512-814c067494a7"
      },
      "outputs": [],
      "source": [
        "my_string = 'Python'\n",
        "print(my_string[0])       # Output: 'P'\n",
        "print(my_string[1:4])     # Output: 'yth'\n",
        "print(my_string[-1])      # Output: 'n'"
      ]
    },
    {
      "cell_type": "markdown",
      "metadata": {
        "id": "irHirtFh2W4P"
      },
      "source": [
        "### 4. String Methods\n",
        "There are several built-in string methods in Python."
      ]
    },
    {
      "cell_type": "code",
      "execution_count": null,
      "metadata": {
        "colab": {
          "base_uri": "https://localhost:8080/"
        },
        "id": "5Ok55tjy2U6T",
        "outputId": "f8a9fa73-e121-45ce-b724-82f01b6a4ae7"
      },
      "outputs": [],
      "source": [
        "my_string = '    Python is nice!    '\n",
        "print(my_string.strip())          # Removes leading and trailing whitespaces\n",
        "print(my_string.lstrip())         # Removes leading and trailing whitespaces left\n",
        "print(my_string.rstrip())         # Removes leading and trailing whitespaces right\n",
        "print(my_string.lower())          # Converts the string to lowercase\n",
        "print(my_string.upper())          # Converts the string to uppercase\n",
        "print(my_string.replace('a', 'o'))# Replaces 'a' with 'o'\n",
        "print(my_string.find('is'))       # Returns the index of the first occurrence of 'is'"
      ]
    },
    {
      "cell_type": "markdown",
      "metadata": {},
      "source": [
        "find() method in details."
      ]
    },
    {
      "cell_type": "code",
      "execution_count": null,
      "metadata": {},
      "outputs": [],
      "source": [
        "my_string = '    Python is nice!    '\n",
        "print(my_string.find('is'))\n",
        "print(my_string.find('JX')) # Can't find ? -> Value will be -1\n",
        "\n",
        "\n",
        "print(my_string.find('n')) # index of the first occurrence of 'n'\n",
        "print(my_string.find('n' , 10)) # index of the first occurrence of 'n' after index **10**"
      ]
    },
    {
      "cell_type": "markdown",
      "metadata": {},
      "source": [
        "Checking the existence of a substring in a string with `in` syntax"
      ]
    },
    {
      "cell_type": "code",
      "execution_count": null,
      "metadata": {},
      "outputs": [],
      "source": [
        "my_string = '    Python is nice!    '\n",
        "print('Python' in my_string) # True\n",
        "print('Java' in my_string) # True"
      ]
    },
    {
      "cell_type": "markdown",
      "metadata": {
        "id": "qvIH6YrT2lkG"
      },
      "source": [
        "## **Exercises**\n",
        "### Exercise 1\n",
        "\n",
        "Create a string that contains your full name and print it.\n"
      ]
    },
    {
      "cell_type": "code",
      "execution_count": null,
      "metadata": {
        "id": "DD_8DnYT2866"
      },
      "outputs": [],
      "source": [
        "#Exercise 1\n",
        "\n",
        "\n",
        "\n"
      ]
    },
    {
      "cell_type": "markdown",
      "metadata": {
        "id": "LGvOTzvO2lfH"
      },
      "source": [
        "### Exercise 2\n",
        "\n",
        "Concatenate two strings and print the result."
      ]
    },
    {
      "cell_type": "code",
      "execution_count": null,
      "metadata": {
        "id": "1bkLAx7n3Zp7"
      },
      "outputs": [],
      "source": [
        "#Exercise 2\n",
        "\n",
        "\n",
        "\n"
      ]
    },
    {
      "cell_type": "markdown",
      "metadata": {
        "id": "IZgFb_S14Hmy"
      },
      "source": [
        "### Exercise 3\n",
        "\n",
        "Given the string `sentence = \"Python programming is fun!\"`, use slicing to obtain the substring `\"programming\"`.\n"
      ]
    },
    {
      "cell_type": "code",
      "execution_count": null,
      "metadata": {
        "id": "dritj1TC3fFw"
      },
      "outputs": [],
      "source": [
        "#Exercise 3\n",
        "\n",
        "\n",
        "\n"
      ]
    },
    {
      "cell_type": "markdown",
      "metadata": {
        "id": "Gih0q9DX2lUq"
      },
      "source": [
        "### Exercise 4\n",
        "\n",
        "Remove any leading or trailing whitespaces from the following string: <br>`whitespace_string = \"    Too many spaces!    \"`."
      ]
    },
    {
      "cell_type": "code",
      "execution_count": null,
      "metadata": {
        "id": "l0uX2oIu3fjK"
      },
      "outputs": [],
      "source": [
        "#Exercise 4\n",
        "\n",
        "\n",
        "\n"
      ]
    },
    {
      "cell_type": "markdown",
      "metadata": {
        "id": "iWuKtko52lO2"
      },
      "source": [
        "### Exercise 5\n",
        "\n",
        "Replace all occurrences of the letter 'o' with 'x' in the string: <br>\n",
        "`original_string = \"Hello, World!\"`.\n"
      ]
    },
    {
      "cell_type": "code",
      "execution_count": null,
      "metadata": {
        "id": "Vj1Vd0dS3f3s"
      },
      "outputs": [],
      "source": [
        "#Exercise 5\n",
        "\n",
        "\n",
        "\n"
      ]
    },
    {
      "cell_type": "markdown",
      "metadata": {
        "id": "gk_Fvkyf3qIC"
      },
      "source": [
        "### Exercise 6\n",
        "\n",
        "Find the index of the first occurrence of the word 'is' in the string: <br>\n",
        "`find_string = \"This is a test string.\"`."
      ]
    },
    {
      "cell_type": "code",
      "execution_count": null,
      "metadata": {
        "id": "4hdGl1cR3sRP"
      },
      "outputs": [],
      "source": [
        "#Exercise 6\n",
        "\n",
        "\n",
        "\n"
      ]
    },
    {
      "cell_type": "markdown",
      "metadata": {},
      "source": [
        "### Exercise 7\n",
        "\n",
        "Use the `find()` method to find the index of the first occurrence of the stop codon \"TAG\" in the DNA sequence:<br>\n",
        "`dna_sequence = \"ATGCTAGCTGATCGATCGTAGCTAGCTA\"`"
      ]
    },
    {
      "cell_type": "code",
      "execution_count": null,
      "metadata": {},
      "outputs": [],
      "source": [
        "#Exercise 7\n",
        "\n",
        "\n",
        "\n",
        "\n"
      ]
    },
    {
      "cell_type": "markdown",
      "metadata": {},
      "source": [
        "### Exercise 8\n",
        "\n",
        "Use the `find()` method to find the index of the second occurrence of the word \"ERROR\" in the log_data.<br>\n",
        "`log_data = \"[INFO] Application started at 2023-01-15 09:30:00 [ERROR] Connection failed at 2023-01-15 10:15:22\"`"
      ]
    },
    {
      "cell_type": "code",
      "execution_count": null,
      "metadata": {},
      "outputs": [],
      "source": [
        "#Exercise 8\n",
        "\n",
        "\n",
        "\n",
        "\n"
      ]
    },
    {
      "cell_type": "markdown",
      "metadata": {},
      "source": [
        "### Exercise 9\n",
        "\n",
        "Try to fix the input information this student and print it as the template:<br>\n",
        "`firstName = \"    parham\"`<br>\n",
        "`lastName = \"   Barzegaran _ hosseini    \"`<br>\n",
        "`age = 27`<br>\n",
        "`score = 14.5`<br>\n",
        "`registered_course = \"\"\"PyTHon `<br>\n",
        "`teacher = \"Your Name\"`\n",
        "`Programming\"\"\"`<br>\n",
        "`student_number = 9311213808`<br><br>\n",
        "\n",
        "Expected output:<br><br>\n",
        "`-----------------------------------` <br>\n",
        "`Personal Information` <br>\n",
        "`-----------------------------------` <br>\n",
        "`Name : Parham` <br>\n",
        "`Family Name : Barzegaran Hosseini` <br>\n",
        "`Age : 27 , Std.No = 9311213808` <br>\n",
        "`-----------------------------------` <br>\n",
        "`Registrarion` <br>\n",
        "`-----------------------------------` <br>\n",
        "`Course : Python Programming`<br>\n",
        "`Teacher : [Your Name]` <br>\n"
      ]
    },
    {
      "cell_type": "code",
      "execution_count": 9,
      "metadata": {},
      "outputs": [],
      "source": [
        "#Exercise 9\n",
        "\n",
        "firstName = \"    parham\"\n",
        "lastName = \"   Barzegaran _ hosseini    \"\n",
        "age = 27\n",
        "score = 14.5\n",
        "registered_course = \"\"\"PyTHon\n",
        "Programming\"\"\"\n",
        "teacher = \"Your Name\"\n",
        "student_number = 9311213808\n",
        "\n",
        "\n",
        "\n",
        "\n",
        "\n",
        "\n",
        "\n"
      ]
    }
  ],
  "metadata": {
    "colab": {
      "provenance": []
    },
    "kernelspec": {
      "display_name": "Python 3",
      "name": "python3"
    },
    "language_info": {
      "codemirror_mode": {
        "name": "ipython",
        "version": 3
      },
      "file_extension": ".py",
      "mimetype": "text/x-python",
      "name": "python",
      "nbconvert_exporter": "python",
      "pygments_lexer": "ipython3",
      "version": "3.11.5"
    }
  },
  "nbformat": 4,
  "nbformat_minor": 0
}
