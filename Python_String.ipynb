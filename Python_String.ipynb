{
  "nbformat": 4,
  "nbformat_minor": 0,
  "metadata": {
    "colab": {
      "provenance": []
    },
    "kernelspec": {
      "name": "python3",
      "display_name": "Python 3"
    },
    "language_info": {
      "name": "python"
    }
  },
  "cells": [
    {
      "cell_type": "markdown",
      "source": [
        "# Introduction to Python Strings\n",
        "\n",
        "## Basics of Strings\n",
        "\n",
        "### 1. Creating Strings\n",
        "\n",
        "Strings in Python can be created using single quotes (`'`) or double quotes (`\"`) and for multiple line (`\"\"\"`)."
      ],
      "metadata": {
        "id": "OTrGwfak14p4"
      }
    },
    {
      "cell_type": "code",
      "source": [
        "single_quoted_string = 'Hello, World!'\n",
        "double_quoted_string = \"Python is fun!\"\n",
        "multiple_line_String = \"\"\"Hello, World!\n",
        "Python is fun!\"\"\""
      ],
      "metadata": {
        "id": "MqxXgrm12Ggc"
      },
      "execution_count": 7,
      "outputs": []
    },
    {
      "cell_type": "markdown",
      "source": [
        "### 2. String Concatenation\n",
        "Strings can be concatenated using the + operator."
      ],
      "metadata": {
        "id": "k-VVZlUq2AOG"
      }
    },
    {
      "cell_type": "code",
      "source": [
        "first_name = 'Parham'\n",
        "last_name = 'Barzegaran'\n",
        "full_name = first_name + ' ' + last_name\n",
        "print(full_name)"
      ],
      "metadata": {
        "colab": {
          "base_uri": "https://localhost:8080/"
        },
        "id": "WrRTF_9E13QQ",
        "outputId": "fbfdebe4-5cc5-4625-8e31-afcd2742a2db"
      },
      "execution_count": 8,
      "outputs": [
        {
          "output_type": "stream",
          "name": "stdout",
          "text": [
            "Parham Barzegaran\n"
          ]
        }
      ]
    },
    {
      "cell_type": "markdown",
      "source": [
        "### 3. String Indexing and Slicing\n",
        "Strings are indexed from 0. You can access individual characters using indexing and obtain substrings using slicing."
      ],
      "metadata": {
        "id": "luuGsKNk2OoS"
      }
    },
    {
      "cell_type": "code",
      "source": [
        "my_string = 'Python'\n",
        "print(my_string[0])       # Output: 'P'\n",
        "print(my_string[1:4])     # Output: 'yth'\n",
        "print(my_string[-1])      # Output: 'n'"
      ],
      "metadata": {
        "colab": {
          "base_uri": "https://localhost:8080/"
        },
        "id": "6rAnDhG_2Rkg",
        "outputId": "c7c990b7-872d-48f9-b512-814c067494a7"
      },
      "execution_count": 9,
      "outputs": [
        {
          "output_type": "stream",
          "name": "stdout",
          "text": [
            "P\n",
            "yth\n",
            "n\n"
          ]
        }
      ]
    },
    {
      "cell_type": "markdown",
      "source": [
        "### 4. String Methods\n",
        "There are several built-in string methods in Python."
      ],
      "metadata": {
        "id": "irHirtFh2W4P"
      }
    },
    {
      "cell_type": "code",
      "source": [
        "my_string = '    Python is nice!    '\n",
        "print(my_string.strip())          # Removes leading and trailing whitespaces\n",
        "print(my_string.lower())          # Converts the string to lowercase\n",
        "print(my_string.upper())          # Converts the string to uppercase\n",
        "print(my_string.replace('a', 'o'))# Replaces 'a' with 'o'\n",
        "print(my_string.find('is'))       # Returns the index of the first occurrence of 'is'"
      ],
      "metadata": {
        "colab": {
          "base_uri": "https://localhost:8080/"
        },
        "id": "5Ok55tjy2U6T",
        "outputId": "f8a9fa73-e121-45ce-b724-82f01b6a4ae7"
      },
      "execution_count": 10,
      "outputs": [
        {
          "output_type": "stream",
          "name": "stdout",
          "text": [
            "Python is nice!\n",
            "    python is nice!    \n",
            "    PYTHON IS NICE!    \n",
            "    Python is nice!    \n",
            "11\n"
          ]
        }
      ]
    },
    {
      "cell_type": "markdown",
      "source": [
        "## **Exercises**\n",
        "### Exercise 1\n",
        "\n",
        "Create a string that contains your full name and print it.\n"
      ],
      "metadata": {
        "id": "qvIH6YrT2lkG"
      }
    },
    {
      "cell_type": "code",
      "source": [
        "#Exercise 1\n",
        "\n",
        "\n",
        "\n"
      ],
      "metadata": {
        "id": "DD_8DnYT2866"
      },
      "execution_count": null,
      "outputs": []
    },
    {
      "cell_type": "markdown",
      "source": [
        "### Exercise 2\n",
        "\n",
        "Concatenate two strings and print the result."
      ],
      "metadata": {
        "id": "LGvOTzvO2lfH"
      }
    },
    {
      "cell_type": "code",
      "source": [
        "#Exercise 2\n",
        "\n",
        "\n",
        "\n"
      ],
      "metadata": {
        "id": "1bkLAx7n3Zp7"
      },
      "execution_count": null,
      "outputs": []
    },
    {
      "cell_type": "markdown",
      "source": [
        "### Exercise 3\n",
        "\n",
        "Given the string `sentence = \"Python programming is fun!\"`, use slicing to obtain the substring `\"programming\"`.\n"
      ],
      "metadata": {
        "id": "IZgFb_S14Hmy"
      }
    },
    {
      "cell_type": "code",
      "source": [
        "#Exercise 3\n",
        "\n",
        "\n",
        "\n"
      ],
      "metadata": {
        "id": "dritj1TC3fFw"
      },
      "execution_count": null,
      "outputs": []
    },
    {
      "cell_type": "markdown",
      "source": [
        "### Exercise 4\n",
        "\n",
        "Remove any leading or trailing whitespaces from the following string: `whitespace_string = \"    Too many spaces!    \"`."
      ],
      "metadata": {
        "id": "Gih0q9DX2lUq"
      }
    },
    {
      "cell_type": "code",
      "source": [
        "#Exercise 4\n",
        "\n",
        "\n",
        "\n"
      ],
      "metadata": {
        "id": "l0uX2oIu3fjK"
      },
      "execution_count": null,
      "outputs": []
    },
    {
      "cell_type": "markdown",
      "source": [
        "### Exercise 5\n",
        "\n",
        "Replace all occurrences of the letter 'o' with 'x' in the string: `original_string = \"Hello, World!\"`.\n"
      ],
      "metadata": {
        "id": "iWuKtko52lO2"
      }
    },
    {
      "cell_type": "code",
      "source": [
        "#Exercise 5\n",
        "\n",
        "\n",
        "\n"
      ],
      "metadata": {
        "id": "Vj1Vd0dS3f3s"
      },
      "execution_count": null,
      "outputs": []
    },
    {
      "cell_type": "markdown",
      "source": [
        "### Exercise 6\n",
        "\n",
        "Find the index of the first occurrence of the word 'is' in the string: `find_string = \"This is a test string.\"`."
      ],
      "metadata": {
        "id": "gk_Fvkyf3qIC"
      }
    },
    {
      "cell_type": "code",
      "source": [
        "#Exercise 6\n",
        "\n",
        "\n",
        "\n"
      ],
      "metadata": {
        "id": "4hdGl1cR3sRP"
      },
      "execution_count": null,
      "outputs": []
    }
  ]
}