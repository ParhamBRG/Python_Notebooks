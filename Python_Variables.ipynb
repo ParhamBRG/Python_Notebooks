{
  "cells": [
    {
      "cell_type": "markdown",
      "metadata": {
        "id": "Z5QZW-ia8GNb"
      },
      "source": [
        "# Python Basics Tutorial\n",
        "\n",
        "## Introduction\n",
        "\n",
        "Welcome to this Python basics tutorial! In this session, we'll cover fundamental concepts to help you get started with Python programming.\n",
        "\n",
        "## Topics Covered\n",
        "\n",
        "1. Variables and Data Types\n",
        "2. Control Flow (if statements, loops)\n",
        "3. Functions\n",
        "4. Lists and Dictionaries\n",
        "5. File Handling"
      ]
    },
    {
      "cell_type": "markdown",
      "metadata": {
        "id": "YlPz9I1B8GNc"
      },
      "source": [
        "### Code Example\n",
        "\n",
        "Let's start with a simple Python script that demonstrates the use of variables and basic arithmetic operations:"
      ]
    },
    {
      "cell_type": "code",
      "execution_count": null,
      "metadata": {
        "id": "oqWcc4oI8GNd",
        "outputId": "3da62190-8260-41a5-dfb1-d31c8f0fbd71"
      },
      "outputs": [
        {
          "ename": "",
          "evalue": "",
          "output_type": "error",
          "traceback": [
            "\u001b[1;31mFailed to start the Kernel. \n",
            "\u001b[1;31mUnable to start Kernel 'base (Python 3.11.5)' due to a timeout waiting for the ports to get used. \n",
            "\u001b[1;31mView Jupyter <a href='command:jupyter.viewOutput'>log</a> for further details."
          ]
        }
      ],
      "source": [
        "# Python code example\n",
        "a = 5\n",
        "b = 10\n",
        "sum_result = a + b\n",
        "print(f\"The sum of {a} and {b} is: {sum_result}\")"
      ]
    },
    {
      "cell_type": "markdown",
      "metadata": {
        "id": "vm4FiBJF8GNd"
      },
      "source": [
        "# Understanding Variables in Python\n",
        "\n",
        "In Python, a variable is a symbolic name that represents or refers to a value. Think of it as a container that holds data. Variables are fundamental to programming as they allow you to store and manipulate information.\n",
        "\n",
        "## Declaring Variables\n",
        "\n",
        "To declare a variable in Python, you simply choose a name and use the assignment operator (`=`) to bind a value to it. Here's an example:\n",
        "\n",
        "```python\n",
        "# Example of variable declaration\n",
        "age = 25\n",
        "name = \"John Doe\"\n",
        "\n",
        "In this example, age is a variable holding the value 25, and name is a variable holding the string \"John Doe\"."
      ]
    },
    {
      "cell_type": "markdown",
      "metadata": {
        "id": "1HXeGB_T8GNe"
      },
      "source": [
        "## Variable Naming Rules\n",
        "\n",
        "- Variable names can contain letters, numbers, and underscores.\n",
        "- They cannot start with a number.\n",
        "- Python is case-sensitive, so `age` and `Age` would be different variables.\n",
        "- Choose descriptive variable names for better code readability.\n",
        "\n",
        "## Using Variables\n",
        "\n",
        "Once a variable is declared, you can use it in various operations. For example:\n",
        "\n",
        "```python\n",
        "# Using variables in operations\n",
        "total_age = age + 5\n",
        "greeting = \"Hello, \" + name\n",
        "```\n",
        "\n",
        "Here, `total_age` holds the result of adding `5` to the current value of `age`, and `greeting` is a new string combining `\"Hello, \"` and the value of `name`.\n",
        "\n",
        "## Reassigning Variables\n",
        "\n",
        "Variables can be reassigned with new values:\n",
        "\n",
        "```python\n",
        "# Reassigning a variable\n",
        "age = 30\n",
        "```\n",
        "\n",
        "After this reassignment, the variable `age` now holds the value `30`."
      ]
    },
    {
      "cell_type": "markdown",
      "metadata": {
        "id": "274FcM_e8GNe"
      },
      "source": [
        "# Python Variables Exercises"
      ]
    },
    {
      "cell_type": "markdown",
      "metadata": {
        "id": "Cq4O10qZ8GNe"
      },
      "source": [
        "## Exercise 1: Variable Basics\n",
        "\n",
        "1. Declare a variable `name` and assign it your name.\n",
        "2. Declare a variable `age` and assign it your age.\n",
        "3. Print a message using the variables `name` and `age` to introduce yourself."
      ]
    },
    {
      "cell_type": "code",
      "execution_count": null,
      "metadata": {
        "id": "-K6B7MDQ8GNe"
      },
      "outputs": [],
      "source": [
        "# Exercise 1\n"
      ]
    },
    {
      "cell_type": "markdown",
      "metadata": {
        "id": "QEwOEanx8GNe"
      },
      "source": [
        "## Exercise 2: Numeric Operations\n",
        "\n",
        "4. Declare two variables, `num1` and `num2`, and assign them any numeric values.\n",
        "5. Perform the following operations and print the results:\n",
        "   - Addition of `num1` and `num2`\n",
        "   - Subtraction of `num1` from `num2`\n",
        "   - Multiplication of `num1` and `num2`\n",
        "   - Division of `num1` by `num2`"
      ]
    },
    {
      "cell_type": "code",
      "execution_count": null,
      "metadata": {
        "id": "DZqicIBW8GNf"
      },
      "outputs": [],
      "source": [
        "# Exercise 2\n"
      ]
    },
    {
      "cell_type": "markdown",
      "metadata": {
        "id": "8ReH649y8GNf"
      },
      "source": [
        "## Exercise 3: String Operations\n",
        "\n",
        "6. Declare a variable `message` and assign it a string.\n",
        "7. Print the length of the string in `message`.\n",
        "8. Convert the string to uppercase and print the result."
      ]
    },
    {
      "cell_type": "code",
      "execution_count": null,
      "metadata": {
        "id": "5XzRpxrU8GNf"
      },
      "outputs": [],
      "source": [
        "# Exercise 3\n"
      ]
    },
    {
      "cell_type": "markdown",
      "metadata": {
        "id": "JyBcEldB8GNf"
      },
      "source": [
        "## Exercise 4: Swapping Values\n",
        "\n",
        "9. Swap the values of `num1` and `num2` without using a temporary variable.\n",
        "10. Print the updated values of `num1` and `num2`."
      ]
    },
    {
      "cell_type": "code",
      "execution_count": null,
      "metadata": {
        "id": "QGUKVXQ48GNf"
      },
      "outputs": [],
      "source": [
        "# Exercise 4\n"
      ]
    },
    {
      "cell_type": "markdown",
      "metadata": {
        "id": "J_58hsFK8GNf"
      },
      "source": [
        "## Exercise 5: Variable Reassignment\n",
        "\n",
        "11. Reassign the variable `age` to a new value.\n",
        "12. Print a message using the updated value of `age`."
      ]
    },
    {
      "cell_type": "code",
      "execution_count": null,
      "metadata": {
        "id": "taOs6PeS8GNf"
      },
      "outputs": [],
      "source": [
        "# Exercise 5\n"
      ]
    },
    {
      "cell_type": "markdown",
      "metadata": {
        "id": "0oPY2hCW8GNf"
      },
      "source": [
        "## Exercise 6: Advanced\n",
        "\n",
        "13. Create a new variable `total_score` and assign it the sum of `num1`, `num2`, and the length of `message`.\n",
        "14. Print the value of `total_score`."
      ]
    },
    {
      "cell_type": "code",
      "execution_count": null,
      "metadata": {
        "id": "4Cy-X2on8GNf"
      },
      "outputs": [],
      "source": [
        "# Exercise 6\n"
      ]
    }
  ],
  "metadata": {
    "kernelspec": {
      "display_name": "base",
      "language": "python",
      "name": "python3"
    },
    "language_info": {
      "name": "python",
      "version": "3.11.5"
    },
    "colab": {
      "provenance": []
    }
  },
  "nbformat": 4,
  "nbformat_minor": 0
}