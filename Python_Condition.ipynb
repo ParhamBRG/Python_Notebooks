{
 "cells": [
  {
   "cell_type": "markdown",
   "source": [
    "# Python Condition\n",
    "\n",
    "## Table of Contents\n",
    "1. Introduction to Condition\n",
    "2. The if Statement\n",
    "3. The else Statement\n",
    "4. The elif Statement\n",
    "5. Exercises"
   ],
   "metadata": {
    "collapsed": false
   },
   "id": "fed53f2cd242ead0"
  },
  {
   "cell_type": "markdown",
   "source": [
    "## Introduction\n",
    "In Python, conditions are fundamental for creating dynamic and responsive programs. They are implemented using `if`, `else`, and `elif` statements. This tutorial will guide you through the basics of conditions and their applications.\n",
    "\n",
    "## Why Use Conditions in Python?\n",
    "Conditions are crucial in programming for various reasons:\n",
    "\n",
    "- **Control Flow:** Conditions enable the control flow of a program, determining which statements get executed and which are skipped.\n",
    "\n",
    "- **Decision Making:** Conditions allow the program to make decisions based on the current state or input, providing flexibility and adaptability.\n",
    "\n",
    "- **Handling Different Cases:** They are used to handle different cases or scenarios, making the program more robust and versatile."
   ],
   "metadata": {
    "collapsed": false
   },
   "id": "42532d658134806"
  },
  {
   "cell_type": "markdown",
   "source": [
    "## 1. The `if` Statement\n",
    "The `if` statement is used to execute a block of code only if a specified condition evaluates to `True`. The basic syntax is as follows:\n",
    "```python\n",
    "if condition:\n",
    "    # Code to be executed if the condition is True\n",
    "```\n",
    "Here, condition is an expression that is evaluated. If it is True, the indented code block underneath it will be executed."
   ],
   "metadata": {
    "collapsed": false
   },
   "id": "19820d8d4d741cf8"
  },
  {
   "cell_type": "markdown",
   "source": [
    "## 2. The `else ` Statement\n",
    "The else statement is used to execute a block of code if the preceding if condition is False. The basic syntax is as follows:\n",
    "```python\n",
    "if condition:\n",
    "    # Code to be executed if the condition is True\n",
    "else:\n",
    "    # Code to be executed if the condition is False\n",
    "```\n",
    "Here, the else block is optional, and it provides an alternative set of instructions if the if condition is not met"
   ],
   "metadata": {
    "collapsed": false
   },
   "id": "f80875fdb67e44"
  },
  {
   "cell_type": "code",
   "execution_count": 6,
   "outputs": [
    {
     "name": "stdout",
     "output_type": "stream",
     "text": [
      "You are a minor.\n"
     ]
    }
   ],
   "source": [
    "## Basic If-Else Example\n",
    "## Determine if a person is a minor or an adult based on their age.\n",
    "age = int(input(\"Enter your age: \"))\n",
    "\n",
    "if age < 18:\n",
    "    print(\"You are a minor.\")\n",
    "else:\n",
    "    print(\"You are an adult.\")"
   ],
   "metadata": {
    "collapsed": false,
    "ExecuteTime": {
     "end_time": "2024-01-02T08:48:41.544795800Z",
     "start_time": "2024-01-02T08:48:38.895488300Z"
    }
   },
   "id": "9558ac1cf76fa153"
  },
  {
   "cell_type": "code",
   "execution_count": 7,
   "outputs": [
    {
     "name": "stdout",
     "output_type": "stream",
     "text": [
      "It's hot outside!\n"
     ]
    }
   ],
   "source": [
    "# Nested If-Else Example\n",
    "# Determine the weather based on temperature.\n",
    "temperature = float(input(\"Enter the temperature in Celsius: \"))\n",
    "\n",
    "if temperature < 0:\n",
    "    print(\"It's freezing cold!\")\n",
    "else:\n",
    "    if temperature > 30:\n",
    "        print(\"It's hot outside!\")\n",
    "    else:\n",
    "        print(\"The weather is pleasant.\")"
   ],
   "metadata": {
    "collapsed": false,
    "ExecuteTime": {
     "end_time": "2024-01-02T08:48:44.545759100Z",
     "start_time": "2024-01-02T08:48:41.477229400Z"
    }
   },
   "id": "7cc47ab54b2ceb9f"
  },
  {
   "cell_type": "markdown",
   "source": [
    "## 3. The `elif ` Statement\n",
    "The elif (short for \"else if\") statement is used to check multiple conditions in sequence. It is part of an if-elif-else structure. The basic syntax is as follows:\n",
    "```python\n",
    "if condition1:\n",
    "    # Code to be executed if condition1 is True\n",
    "elif condition2:\n",
    "    # Code to be executed if condition1 is False and condition2 is True\n",
    "else:\n",
    "    # Code to be executed if all conditions are False\n",
    "```\n",
    "You can have multiple elif blocks to check additional conditions."
   ],
   "metadata": {
    "collapsed": false
   },
   "id": "c063cbfbe954d7e5"
  },
  {
   "cell_type": "code",
   "execution_count": 8,
   "outputs": [
    {
     "name": "stdout",
     "output_type": "stream",
     "text": [
      "Your grade is D.\n"
     ]
    }
   ],
   "source": [
    "# If-Elif-Else Example\n",
    "# Grading system based on marks.\n",
    "marks = int(input(\"Enter your marks: \"))\n",
    "\n",
    "if marks >= 90:\n",
    "    grade = 'A'\n",
    "elif marks >= 80:\n",
    "    grade = 'B'\n",
    "elif marks >= 70:\n",
    "    grade = 'C'\n",
    "elif marks >= 60:\n",
    "    grade = 'D'\n",
    "else:\n",
    "    grade = 'F'\n",
    "\n",
    "print(f\"Your grade is {grade}.\")"
   ],
   "metadata": {
    "collapsed": false,
    "ExecuteTime": {
     "end_time": "2024-01-02T08:48:46.851521200Z",
     "start_time": "2024-01-02T08:48:44.498564800Z"
    }
   },
   "id": "7eee952fda5df154"
  },
  {
   "cell_type": "markdown",
   "source": [
    "## 4. Exercises"
   ],
   "metadata": {
    "collapsed": false
   },
   "id": "9c8b617867e57d26"
  },
  {
   "cell_type": "markdown",
   "source": [
    "### **Exercise 1**\n",
    "Write a program that takes the user's age as input and, if the age is under 18, displays the message \"The content of this site is not suitable for you."
   ],
   "metadata": {
    "collapsed": false
   },
   "id": "6bd4a6f98d66d313"
  },
  {
   "cell_type": "code",
   "execution_count": 9,
   "outputs": [],
   "source": [
    "# Exercise 1\n",
    "\n",
    "\n",
    "\n"
   ],
   "metadata": {
    "collapsed": false,
    "ExecuteTime": {
     "end_time": "2024-01-02T08:48:46.851521200Z",
     "start_time": "2024-01-02T08:48:46.816696300Z"
    }
   },
   "id": "1d0ff0478879c013"
  },
  {
   "cell_type": "markdown",
   "source": [
    "### **Exercise 2**\n",
    "Write a program that simulates the login process (checks the entered password and username) and displays appropriate messages for all scenarios."
   ],
   "metadata": {
    "collapsed": false
   },
   "id": "e8178b6df98eeb97"
  },
  {
   "cell_type": "code",
   "execution_count": 10,
   "outputs": [],
   "source": [
    "# Exercise 2\n",
    "\n",
    "# Database user info\n",
    "username = \"Parham.b\"\n",
    "password = \"PAR\"\n",
    "\n",
    "\n",
    "\n"
   ],
   "metadata": {
    "collapsed": false,
    "ExecuteTime": {
     "end_time": "2024-01-02T08:48:46.853519900Z",
     "start_time": "2024-01-02T08:48:46.829521400Z"
    }
   },
   "id": "24ddf428afe7e482"
  },
  {
   "cell_type": "markdown",
   "source": [
    "### **Exercise 3**\n",
    "Write a program that simulates the ATM for account balance, obtaining the last ten transactions, money withdrawal, and exit. Additionally, it should first prompt for a password, and verify its correctness."
   ],
   "metadata": {
    "collapsed": false
   },
   "id": "e0030cd7b1f56277"
  },
  {
   "cell_type": "code",
   "execution_count": 11,
   "outputs": [],
   "source": [
    "# Exercise 3\n",
    "\n",
    "# Database card info\n",
    "card_password = \"7516\"\n"
   ],
   "metadata": {
    "collapsed": false,
    "ExecuteTime": {
     "end_time": "2024-01-02T08:48:46.882981100Z",
     "start_time": "2024-01-02T08:48:46.858230900Z"
    }
   },
   "id": "5fa6c44415476eb6"
  }
 ],
 "metadata": {
  "kernelspec": {
   "display_name": "Python 3",
   "language": "python",
   "name": "python3"
  },
  "language_info": {
   "codemirror_mode": {
    "name": "ipython",
    "version": 2
   },
   "file_extension": ".py",
   "mimetype": "text/x-python",
   "name": "python",
   "nbconvert_exporter": "python",
   "pygments_lexer": "ipython2",
   "version": "2.7.6"
  }
 },
 "nbformat": 4,
 "nbformat_minor": 5
}
