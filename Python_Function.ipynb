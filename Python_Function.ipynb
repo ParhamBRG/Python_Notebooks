{
 "cells": [
  {
   "cell_type": "markdown",
   "metadata": {},
   "source": [
    "# Python Functions\n",
    "\n",
    "In Python, a function is a block of reusable code that performs a specific task. Functions help organize code and make it more modular.\n",
    "\n",
    "Let's explore the basics of functions in Python."
   ]
  },
  {
   "cell_type": "markdown",
   "metadata": {},
   "source": [
    "### Basic Function Syntax\n",
    "``` Python\n",
    "def greet(name):\n",
    "    \"\"\"This function prints a greeting message.\"\"\"\n",
    "    print(f\"Hello, {name}!\")\n",
    "\n",
    "# Call the function\n",
    "greet(\"Parham\")\n",
    "\n",
    "```"
   ]
  },
  {
   "cell_type": "code",
   "execution_count": 20,
   "metadata": {},
   "outputs": [
    {
     "name": "stdout",
     "output_type": "stream",
     "text": [
      "Hello, Parham!\n"
     ]
    }
   ],
   "source": [
    "### Basic Function Syntax\n",
    "\n",
    "def greet(name):\n",
    "    \"\"\"This function prints a greeting message.\"\"\"\n",
    "    print(f\"Hello, {name}!\")\n",
    "\n",
    "# Call the function\n",
    "greet(\"Parham\")"
   ]
  },
  {
   "cell_type": "markdown",
   "metadata": {},
   "source": [
    "### Function Parameters and Return\n",
    "``` Python\n",
    "\n",
    "def add_numbers(a, b):\n",
    "    \"\"\"This function adds two numbers and returns the result.\"\"\"\n",
    "    result = a + b\n",
    "    return result\n",
    "\n",
    "# Call the function\n",
    "sum_result = add_numbers(5, 7)\n",
    "print(\"Sum:\", sum_result)\n",
    "\n",
    "```"
   ]
  },
  {
   "cell_type": "code",
   "execution_count": 21,
   "metadata": {},
   "outputs": [
    {
     "name": "stdout",
     "output_type": "stream",
     "text": [
      "Sum: 12\n"
     ]
    }
   ],
   "source": [
    "### Function Parameters and Return\n",
    "\n",
    "def add_numbers(a, b):\n",
    "    \"\"\"This function adds two numbers and returns the result.\"\"\"\n",
    "    result = a + b\n",
    "    return result\n",
    "\n",
    "# Call the function\n",
    "sum_result = add_numbers(5, 7)\n",
    "print(\"Sum:\", sum_result)"
   ]
  },
  {
   "cell_type": "markdown",
   "metadata": {},
   "source": [
    "### Default Parameters and Keyword Arguments\n",
    "``` Python\n",
    "\n",
    "def greet_person(name, greeting=\"Hello\"):\n",
    "    \"\"\"This function greets a person with a specified greeting.\"\"\"\n",
    "    print(f\"{greeting}, {name}!\")\n",
    "\n",
    "# Call the function with default and custom greeting\n",
    "greet_person(\"Parham\")\n",
    "greet_person(\"Ali\", greeting=\"Hi\")\n",
    "\n",
    "```"
   ]
  },
  {
   "cell_type": "code",
   "execution_count": 22,
   "metadata": {},
   "outputs": [
    {
     "name": "stdout",
     "output_type": "stream",
     "text": [
      "Hello, Parham!\n",
      "Hi, Ali!\n"
     ]
    }
   ],
   "source": [
    "# Default Parameters and Keyword Arguments\n",
    "\n",
    "def greet_person(name, greeting=\"Hello\"):\n",
    "    \"\"\"This function greets a person with a specified greeting.\"\"\"\n",
    "    print(f\"{greeting}, {name}!\")\n",
    "\n",
    "# Call the function with default and custom greeting\n",
    "greet_person(\"Parham\")\n",
    "greet_person(\"Ali\", greeting=\"Hi\")"
   ]
  },
  {
   "cell_type": "markdown",
   "metadata": {},
   "source": [
    "### Scope of Variables\n",
    "\n",
    "``` Python\n",
    "x = 10  # Global variable\n",
    "\n",
    "def multiply_by_global_variable(y):\n",
    "    \"\"\"This function multiplies a number by a global variable.\"\"\"\n",
    "    result = x * y\n",
    "    return result\n",
    "\n",
    "# Call the function\n",
    "product = multiply_by_global_variable(3)\n",
    "print(\"Product:\", product)\n",
    "\n",
    "```"
   ]
  },
  {
   "cell_type": "code",
   "execution_count": 23,
   "metadata": {},
   "outputs": [
    {
     "name": "stdout",
     "output_type": "stream",
     "text": [
      "Product: 30\n"
     ]
    }
   ],
   "source": [
    "# Scope of Variables\n",
    "\n",
    "x = 10  # Global variable\n",
    "\n",
    "def multiply_by_global_variable(y):\n",
    "    \"\"\"This function multiplies a number by a global variable.\"\"\"\n",
    "    result = x * y\n",
    "    return result\n",
    "\n",
    "# Call the function\n",
    "product = multiply_by_global_variable(3)\n",
    "print(\"Product:\", product)\n"
   ]
  },
  {
   "cell_type": "markdown",
   "metadata": {},
   "source": [
    "## Exercises"
   ]
  },
  {
   "cell_type": "markdown",
   "metadata": {},
   "source": [
    "### Exercise 1: Basic Function Creation\n",
    "Create a function called `calculate_area` that takes the radius of a circle as a parameter and returns the area of the circle. Test the function with different radius values."
   ]
  },
  {
   "cell_type": "code",
   "execution_count": 24,
   "metadata": {},
   "outputs": [],
   "source": [
    "# Exercise 1\n",
    "\n",
    "\n"
   ]
  },
  {
   "cell_type": "markdown",
   "metadata": {},
   "source": [
    "### Exercise 2: Function with Multiple Parameters\n",
    "Write a function called `calculate_total_cost` that takes the price of an item, the quantity, and a tax rate as parameters. The function should return the total cost including tax."
   ]
  },
  {
   "cell_type": "code",
   "execution_count": 25,
   "metadata": {},
   "outputs": [],
   "source": [
    "# Exercise 2\n",
    "\n",
    "\n"
   ]
  },
  {
   "cell_type": "markdown",
   "metadata": {},
   "source": [
    "### Exercise 3: Default Parameters\n",
    "Create a function named `greet_user` that takes a user's name and a greeting (defaulted to \"Hello\"). The function should print the greeting along with the user's name."
   ]
  },
  {
   "cell_type": "code",
   "execution_count": 26,
   "metadata": {},
   "outputs": [],
   "source": [
    "# Exercise 3\n",
    "\n",
    "\n"
   ]
  },
  {
   "cell_type": "markdown",
   "metadata": {},
   "source": [
    "### Exercise 4: Return Multiple Values\n",
    "Write a function named `calculate_rectangle_properties` that takes the length and width of a rectangle as parameters and returns both the area and perimeter of the rectangle."
   ]
  },
  {
   "cell_type": "code",
   "execution_count": 27,
   "metadata": {},
   "outputs": [],
   "source": [
    "# Exercise 4\n",
    "\n",
    "\n"
   ]
  },
  {
   "cell_type": "markdown",
   "metadata": {},
   "source": [
    "### Exercise 5: Scope and Global Variables\n",
    "Create a function called `modify_global_variable` that tries to modify a global variable defined outside the function. Test whether the modification is successful and explain the results."
   ]
  },
  {
   "cell_type": "code",
   "execution_count": 28,
   "metadata": {},
   "outputs": [],
   "source": [
    "# Exercise 5\n",
    "\n",
    "\n"
   ]
  },
  {
   "cell_type": "markdown",
   "metadata": {},
   "source": [
    "### Exercise 6: Recursive Function\n",
    "Implement a recursive function called `factorial` to calculate the factorial of a given number. The factorial of a non-negative integer n is the product of all positive integers less than or equal to n."
   ]
  },
  {
   "cell_type": "code",
   "execution_count": 29,
   "metadata": {},
   "outputs": [],
   "source": [
    "# Exercise 6\n",
    "\n",
    "\n"
   ]
  },
  {
   "cell_type": "markdown",
   "metadata": {},
   "source": [
    "### Exercise 7: Lambda Functions\n",
    "Write a lambda function that squares a given number. Use this lambda function to create a list of squared values for a given list of numbers."
   ]
  },
  {
   "cell_type": "code",
   "execution_count": 30,
   "metadata": {},
   "outputs": [],
   "source": [
    "# Exercise 7\n",
    "\n",
    "\n"
   ]
  }
 ],
 "metadata": {
  "kernelspec": {
   "display_name": "base",
   "language": "python",
   "name": "python3"
  },
  "language_info": {
   "codemirror_mode": {
    "name": "ipython",
    "version": 3
   },
   "file_extension": ".py",
   "mimetype": "text/x-python",
   "name": "python",
   "nbconvert_exporter": "python",
   "pygments_lexer": "ipython3",
   "version": "3.11.5"
  }
 },
 "nbformat": 4,
 "nbformat_minor": 2
}
