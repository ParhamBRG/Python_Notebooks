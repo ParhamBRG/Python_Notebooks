{
 "cells": [
  {
   "cell_type": "markdown",
   "metadata": {},
   "source": [
    "# Python List\n",
    "\n",
    "A list in Python is a dynamic, ordered collection of items that can be of different data types. It is mutable, meaning you can change its content by adding, removing, or updating elements."
   ]
  },
  {
   "cell_type": "markdown",
   "metadata": {},
   "source": [
    "**Why Use Python Lists?**\n",
    "- **Versatility:** Lists are flexible and can store various types of data.\n",
    "- **Ease of Use:** Creating and manipulating lists is simple and intuitive.\n",
    "- **Data Storage:** Lists are handy for organizing and retrieving data.\n",
    "- **Iteration and Indexing:** Lists support easy looping through elements and direct access using indexes.\n",
    "\n",
    "**Example Use Cases:**\n",
    "- **Data Processing:** Storing and manipulating datasets.\n",
    "- **Algorithm Implementation:** Implementing algorithms and data structures.\n",
    "- **Input/Output Handling:** Processing and organizing user or external input.\n",
    "- **Configuration Settings:** Managing program or application settings.\n",
    "\n",
    "**In Summary:**\n",
    "Python lists are fundamental for storing and manipulating data. They offer versatility, ease of use, and adaptability, making them suitable for a wide range of programming tasks."
   ]
  },
  {
   "cell_type": "markdown",
   "metadata": {},
   "source": [
    "### List Functions in Python: A Quick Overview\n",
    "\n",
    "**1. `len()`:**\n",
    "   - **Description:** Returns the number of elements in a list.\n",
    "   - **Example:**\n",
    "     ```python\n",
    "     my_list = [1, 2, 3, 4, 5]\n",
    "     length = len(my_list)  # Returns 5\n",
    "     ```\n",
    "\n",
    "**2. `append()`:**\n",
    "   - **Description:** Adds an element to the end of the list.\n",
    "   - **Example:**\n",
    "     ```python\n",
    "     my_list = [1, 2, 3]\n",
    "     my_list.append(4)  # Results in [1, 2, 3, 4]\n",
    "     ```\n",
    "\n",
    "**3. `extend()`:**\n",
    "   - **Description:** Appends the elements of another iterable (e.g., list, tuple) to the end of the list.\n",
    "   - **Example:**\n",
    "     ```python\n",
    "     list1 = [1, 2, 3]\n",
    "     list2 = [4, 5, 6]\n",
    "     list1.extend(list2)  # Results in [1, 2, 3, 4, 5, 6]\n",
    "     ```\n",
    "\n",
    "**4. `insert()`:**\n",
    "   - **Description:** Inserts an element at a specified position in the list.\n",
    "   - **Example:**\n",
    "     ```python\n",
    "     my_list = [1, 2, 3]\n",
    "     my_list.insert(1, 4)  # Results in [1, 4, 2, 3]\n",
    "     ```\n",
    "\n",
    "**5. `remove()`:**\n",
    "   - **Description:** Removes the first occurrence of a specified value from the list.\n",
    "   - **Example:**\n",
    "     ```python\n",
    "     my_list = [1, 2, 3, 2, 4]\n",
    "     my_list.remove(2)  # Results in [1, 3, 2, 4]\n",
    "     ```\n",
    "\n",
    "**6. `pop()`:**\n",
    "   - **Description:** Removes and returns the element at a specified position. If no index is provided, removes and returns the last element.\n",
    "   - **Example:**\n",
    "     ```python\n",
    "     my_list = [1, 2, 3, 4]\n",
    "     popped_element = my_list.pop(2)  # Results in [1, 2, 4], popped_element contains 3\n",
    "     ```\n",
    "\n",
    "**7. `index()`:**\n",
    "   - **Description:** Returns the index of the first occurrence of a specified value in the list.\n",
    "   - **Example:**\n",
    "     ```python\n",
    "     my_list = [10, 20, 30, 40]\n",
    "     index = my_list.index(30)  # Returns 2\n",
    "     ```\n",
    "\n",
    "**8. `count()`:**\n",
    "   - **Description:** Returns the number of occurrences of a specified value in the list.\n",
    "   - **Example:**\n",
    "     ```python\n",
    "     my_list = [1, 2, 2, 3, 2, 4]\n",
    "     count = my_list.count(2)  # Returns 3\n",
    "     ```\n",
    "\n",
    "**9. `sort()`:**\n",
    "   - **Description:** Sorts the elements of the list in ascending order. It can take optional parameters for customization.\n",
    "   - **Example:**\n",
    "     ```python\n",
    "     my_list = [3, 1, 4, 1, 5, 9, 2]\n",
    "     my_list.sort()  # Results in [1, 1, 2, 3, 4, 5, 9]\n",
    "     ```\n",
    "\n",
    "**10. `reverse()`:**\n",
    "    - **Description:** Reverses the order of the elements in the list.\n",
    "    - **Example:**\n",
    "      ```python\n",
    "      my_list = [1, 2, 3, 4]\n",
    "      my_list.reverse()  # Results in [4, 3, 2, 1]\n",
    "      ```\n",
    "\n",
    "These are just a few examples of functions that can be applied to lists in Python. Understanding and using these functions effectively can greatly enhance your ability to work with lists in various programming scenarios."
   ]
  },
  {
   "cell_type": "code",
   "execution_count": 9,
   "metadata": {},
   "outputs": [
    {
     "name": "stdout",
     "output_type": "stream",
     "text": [
      "[1, 2, 3, 4, 5]\n",
      "[1, 2, 3, 4]\n",
      "[1, 2, 3, 4]\n",
      "[1, 4, 2, 3]\n",
      "[1, 3, 2, 4]\n",
      "[1, 2, 4]\n",
      "[10, 20, 30, 40]\n",
      "[1, 2, 2, 3, 2, 4]\n",
      "[1, 1, 2, 3, 4, 5, 9]\n",
      "[4, 3, 2, 1]\n"
     ]
    }
   ],
   "source": [
    "### List Functions in Python: A Quick Overview\n",
    "\n",
    "## 1. len()\n",
    "my_list = [1, 2, 3, 4, 5]\n",
    "length = len(my_list)  # Returns 5\n",
    "print(my_list)\n",
    "     \n",
    "## 2. append()\n",
    "my_list = [1, 2, 3]\n",
    "my_list.append(4)  # Results in [1, 2, 3, 4]\n",
    "print(my_list)\n",
    "    \n",
    "## 3. insert()\n",
    "list1 = [1, 2, 3]\n",
    "list2 = [4, 5, 6]\n",
    "list1.extend(list2)  # Results in [1, 2, 3, 4, 5, 6]\n",
    "print(my_list)\n",
    "    \n",
    "## 4. insert()\n",
    "my_list = [1, 2, 3]\n",
    "my_list.insert(1, 4)  # Results in [1, 4, 2, 3]\n",
    "print(my_list)\n",
    "    \n",
    "## 5. remove()\n",
    "my_list = [1, 2, 3, 2, 4]\n",
    "my_list.remove(2)  # Results in [1, 3, 2, 4]\n",
    "print(my_list)\n",
    "    \n",
    "## 6. pop()\n",
    "my_list = [1, 2, 3, 4]\n",
    "popped_element = my_list.pop(2)  # Results in [1, 2, 4], popped_element contains 3\n",
    "print(my_list)\n",
    "    \n",
    "## 7. index()\n",
    "my_list = [10, 20, 30, 40]\n",
    "index = my_list.index(30)  # Returns 2\n",
    "print(my_list)\n",
    "    \n",
    "## 8. count()\n",
    "my_list = [1, 2, 2, 3, 2, 4]\n",
    "count = my_list.count(2)  # Returns 3\n",
    "print(my_list)\n",
    "    \n",
    "## 9. sort()\n",
    "my_list = [3, 1, 4, 1, 5, 9, 2]\n",
    "my_list.sort()  # Results in [1, 1, 2, 3, 4, 5, 9]\n",
    "print(my_list)\n",
    "    \n",
    "## 10. reverse()\n",
    "my_list = [1, 2, 3, 4]\n",
    "my_list.reverse()  # Results in [4, 3, 2, 1]\n",
    "print(my_list)\n",
    "    "
   ]
  },
  {
   "cell_type": "markdown",
   "metadata": {},
   "source": [
    "### `map` and `filter` methods:\n",
    "\n",
    "`map` and `filter` are built-in functions in Python. They can be used with lists.\n",
    "\n",
    "**Example:**\n",
    "```python\n",
    "# map: Apply a function to all items in an input list\n",
    "numbers = [1, 2, 3, 4, 5]\n",
    "squared = list(map(lambda x: x**2, numbers))\n",
    "print(squared)  # Output: [1, 4, 9, 16, 25]\n",
    "\n",
    "# filter: Filter items based on a condition\n",
    "even_numbers = list(filter(lambda x: x % 2 == 0, numbers))\n",
    "print(even_numbers)  # Output: [2, 4]\n",
    "```"
   ]
  },
  {
   "cell_type": "code",
   "execution_count": null,
   "metadata": {},
   "outputs": [
    {
     "name": "stdout",
     "output_type": "stream",
     "text": [
      "[1, 4, 9, 16, 25]\n",
      "[2, 4]\n"
     ]
    }
   ],
   "source": [
    "# map: Apply a function to all items in an input list\n",
    "numbers = [1, 2, 3, 4, 5]\n",
    "squared = list(map(lambda x: x**2, numbers))\n",
    "print(squared)  # Output: [1, 4, 9, 16, 25]\n",
    "\n",
    "# filter: Filter items based on a condition\n",
    "even_numbers = list(filter(lambda x: x % 2 == 0, numbers))\n",
    "print(even_numbers)  # Output: [2, 4]"
   ]
  },
  {
   "cell_type": "markdown",
   "metadata": {},
   "source": [
    "#### **Exercise 1**: `Working with Lists`\n",
    "\n",
    "Description:<br>\n",
    "Create a list with the first 5 prime numbers.<br>\n",
    "Modify the list to replace the third prime number with 13.<br>\n",
    "Add the next two prime numbers to the list.<br>\n",
    "Remove the second prime number from the list.<br>"
   ]
  },
  {
   "cell_type": "code",
   "execution_count": null,
   "metadata": {},
   "outputs": [],
   "source": [
    "# Exercise 1: Working with Lists\n",
    "\n",
    "\n"
   ]
  },
  {
   "cell_type": "markdown",
   "metadata": {},
   "source": [
    "#### **Exercise 2**: `Map and Filter`\n",
    "\n",
    "Description:<br>\n",
    "Use map to convert a list of Celsius temperatures to Fahrenheit. Formula: F = (C * 9/5) + 32<br>\n",
    "Use filter to get only the even numbers from a list of integers.<br>\n",
    "Use map and filter together to square only the even numbers in a list of integers.<br>"
   ]
  },
  {
   "cell_type": "code",
   "execution_count": null,
   "metadata": {},
   "outputs": [],
   "source": [
    "# Exercise 2: Map and Filter\n",
    "\n",
    "\n"
   ]
  },
  {
   "cell_type": "markdown",
   "metadata": {},
   "source": [
    "#### **Exercise 3**: `List Manipulation`\n",
    "\n",
    "Description:<br>\n",
    "Create a list containing the first 7 square numbers.<br>\n",
    "Reverse the list.<br>\n",
    "Find and print the maximum value in the list.<br>\n",
    "Append the square of 8 to the list.<br>\n",
    "Remove the square of 4 from the list.<br>"
   ]
  },
  {
   "cell_type": "code",
   "execution_count": null,
   "metadata": {},
   "outputs": [],
   "source": [
    "# Exercise 3: List Manipulation\n",
    "\n",
    "\n"
   ]
  },
  {
   "cell_type": "markdown",
   "metadata": {},
   "source": [
    "#### **Exercise 4**: `Map and Filter with Strings`\n",
    "\n",
    "Description:<br>\n",
    "Create a list of words.<br>\n",
    "Use map to convert each word to uppercase.<br>\n",
    "Use filter to get only the words that contain the letter 'a'.<br>\n",
    "Use map and filter together to create a new list with the lengths of words containing 'a'.<br>"
   ]
  },
  {
   "cell_type": "code",
   "execution_count": null,
   "metadata": {},
   "outputs": [],
   "source": [
    "# Exercise 4: List Manipulation\n",
    "\n",
    "\n"
   ]
  },
  {
   "cell_type": "markdown",
   "metadata": {},
   "source": [
    "#### **Exercise 5**: `Advanced List Operations`\n",
    "\n",
    "Description:<br>\n",
    "Create two lists of numbers.<br>\n",
    "Use zip to combine the two lists into pairs.<br>\n",
    "Use list comprehension to create a new list with the product of each pair.<br>\n",
    "Use reduce (import it from functools) to find the sum of the products.<br>"
   ]
  },
  {
   "cell_type": "code",
   "execution_count": null,
   "metadata": {},
   "outputs": [],
   "source": [
    "# Exercise 5: Advanced List Operations\n",
    "\n",
    "\n"
   ]
  }
 ],
 "metadata": {
  "kernelspec": {
   "display_name": "base",
   "language": "python",
   "name": "python3"
  },
  "language_info": {
   "codemirror_mode": {
    "name": "ipython",
    "version": 3
   },
   "file_extension": ".py",
   "mimetype": "text/x-python",
   "name": "python",
   "nbconvert_exporter": "python",
   "pygments_lexer": "ipython3",
   "version": "3.11.5"
  }
 },
 "nbformat": 4,
 "nbformat_minor": 2
}
