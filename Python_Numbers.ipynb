{
 "cells": [
  {
   "cell_type": "markdown",
   "metadata": {},
   "source": [
    "# Introduction to Python Numbers\n",
    "## Basics of Numbers"
   ]
  },
  {
   "cell_type": "markdown",
   "source": [
    "### 1. Numbers in Python\n",
    "\n",
    "```python\n",
    "integer_number = 42\n",
    "float_number = 3.14\n",
    "```"
   ],
   "metadata": {
    "collapsed": false
   }
  },
  {
   "cell_type": "code",
   "execution_count": 15,
   "outputs": [],
   "source": [
    "integer_number = 42\n",
    "float_number = 3.14"
   ],
   "metadata": {
    "collapsed": false,
    "ExecuteTime": {
     "end_time": "2023-12-21T09:01:30.582029300Z",
     "start_time": "2023-12-21T09:01:30.508962100Z"
    }
   }
  },
  {
   "cell_type": "markdown",
   "source": [
    "### 2. Basic Arithmetic Operations\n",
    "```python\n",
    "addition_result = integer_number + float_number\n",
    "subtraction_result = integer_number - float_number\n",
    "multiplication_result = integer_number * float_number\n",
    "division_result = integer_number / float_number\n",
    "modulo_result = integer_number % 5  # Modulo operator\n",
    "floor_division_result = integer_number // 5  # Floor division operator\n",
    "```"
   ],
   "metadata": {
    "collapsed": false
   }
  },
  {
   "cell_type": "code",
   "execution_count": 16,
   "outputs": [
    {
     "name": "stdout",
     "output_type": "stream",
     "text": [
      "Integer Number: 42\n",
      "Float Number: 3.14\n",
      "Addition Result: 45.14\n",
      "Subtraction Result: 38.86\n",
      "Multiplication Result: 131.88\n",
      "Division Result: 13.375796178343949\n",
      "Modulo Result: 2\n",
      "Floor Division Result: 8\n"
     ]
    }
   ],
   "source": [
    "addition_result = integer_number + float_number\n",
    "subtraction_result = integer_number - float_number\n",
    "multiplication_result = integer_number * float_number\n",
    "division_result = integer_number / float_number\n",
    "modulo_result = integer_number % 5  # Modulo operator\n",
    "floor_division_result = integer_number // 5  # Floor division operator\n",
    "\n",
    "# Displaying Results\n",
    "print(\"Integer Number:\", integer_number)\n",
    "print(\"Float Number:\", float_number)\n",
    "print(\"Addition Result:\", addition_result)\n",
    "print(\"Subtraction Result:\", subtraction_result)\n",
    "print(\"Multiplication Result:\", multiplication_result)\n",
    "print(\"Division Result:\", division_result)\n",
    "print(\"Modulo Result:\", modulo_result)\n",
    "print(\"Floor Division Result:\", floor_division_result)"
   ],
   "metadata": {
    "collapsed": false,
    "ExecuteTime": {
     "end_time": "2023-12-21T09:01:30.609116900Z",
     "start_time": "2023-12-21T09:01:30.587487400Z"
    }
   }
  },
  {
   "cell_type": "markdown",
   "source": [
    "### 3. Type Conversion\n",
    "```python\n",
    "float_to_int = int(float_number)\n",
    "int_to_float = float(integer_number)\n",
    "```\n",
    "####    We can also convert string numberical values to integer or float\n",
    "```python\n",
    "str_to_int = int(\"15\")\n",
    "str_to_float = float(\"15.5\")\n",
    "```"
   ],
   "metadata": {
    "collapsed": false
   }
  },
  {
   "cell_type": "code",
   "execution_count": 17,
   "outputs": [
    {
     "name": "stdout",
     "output_type": "stream",
     "text": [
      "\n",
      "Type Conversion:\n",
      "Float to Int: 3\n",
      "Int to Float: 42.0\n",
      "Str to int: 15\n",
      "Str to Float: 15.5\n"
     ]
    }
   ],
   "source": [
    "float_to_int = int(float_number)\n",
    "int_to_float = float(integer_number)\n",
    "\n",
    "str_to_int = int(\"15\")\n",
    "str_to_float = float(\"15.5\")\n",
    "\n",
    "# Displaying Type Conversion Results\n",
    "print(\"\\nType Conversion:\")\n",
    "print(\"Float to Int:\", float_to_int)\n",
    "print(\"Int to Float:\", int_to_float)\n",
    "print(\"Str to int:\", str_to_int)\n",
    "print(\"Str to Float:\", str_to_float)"
   ],
   "metadata": {
    "collapsed": false,
    "ExecuteTime": {
     "end_time": "2023-12-21T09:01:30.685787500Z",
     "start_time": "2023-12-21T09:01:30.615702800Z"
    }
   }
  },
  {
   "cell_type": "markdown",
   "source": [
    "### 4. Power and Square Root\n",
    "```python\n",
    "power_result = 2 ** 3  # 2 raised to the power of 3\n",
    "square_root_result = 16 ** 0.5  # Square root of 16\n",
    "```"
   ],
   "metadata": {
    "collapsed": false
   }
  },
  {
   "cell_type": "code",
   "execution_count": 18,
   "outputs": [
    {
     "name": "stdout",
     "output_type": "stream",
     "text": [
      "\n",
      "Power and Square Root:\n",
      "Power Result: 8\n",
      "Square Root Result: 4.0\n"
     ]
    }
   ],
   "source": [
    "power_result = 2 ** 3  # 2 raised to the power of 3\n",
    "square_root_result = 16 ** 0.5  # Square root of 16\n",
    "\n",
    "# Displaying Power and Square Root Results\n",
    "print(\"\\nPower and Square Root:\")\n",
    "print(\"Power Result:\", power_result)\n",
    "print(\"Square Root Result:\", square_root_result)"
   ],
   "metadata": {
    "collapsed": false,
    "ExecuteTime": {
     "end_time": "2023-12-21T09:01:30.686768500Z",
     "start_time": "2023-12-21T09:01:30.621187600Z"
    }
   }
  },
  {
   "cell_type": "markdown",
   "source": [
    "### 5. Rounding\n",
    "``` python\n",
    "rounded_float = round(float_number, 2)  # Round to 2 decimal places\n",
    "```"
   ],
   "metadata": {
    "collapsed": false
   }
  },
  {
   "cell_type": "code",
   "execution_count": 19,
   "outputs": [
    {
     "name": "stdout",
     "output_type": "stream",
     "text": [
      "\n",
      "Rounding:\n",
      "Original Float: 3.14\n",
      "Rounded Float (2 decimal places): 3.14\n"
     ]
    }
   ],
   "source": [
    "rounded_float = round(float_number, 2)  # Round to 2 decimal places\n",
    "\n",
    "# Displaying Rounding Result\n",
    "print(\"\\nRounding:\")\n",
    "print(\"Original Float:\", float_number)\n",
    "print(\"Rounded Float (2 decimal places):\", rounded_float)"
   ],
   "metadata": {
    "collapsed": false,
    "ExecuteTime": {
     "end_time": "2023-12-21T09:01:30.774756600Z",
     "start_time": "2023-12-21T09:01:30.690959Z"
    }
   }
  },
  {
   "cell_type": "markdown",
   "source": [
    "### 6. Absolute\n",
    "``` python\n",
    "abs_result = abs(-7)  # Absolute value of -7\n",
    "```"
   ],
   "metadata": {
    "collapsed": false
   }
  },
  {
   "cell_type": "code",
   "execution_count": 20,
   "outputs": [
    {
     "name": "stdout",
     "output_type": "stream",
     "text": [
      "Absolute Value of -7: 7\n"
     ]
    }
   ],
   "source": [
    "abs_result = abs(-7)  # Absolute value of -7\n",
    "\n",
    "print(\"Absolute Value of -7:\", abs_result)"
   ],
   "metadata": {
    "collapsed": false,
    "ExecuteTime": {
     "end_time": "2023-12-21T09:01:30.847290Z",
     "start_time": "2023-12-21T09:01:30.747212300Z"
    }
   }
  },
  {
   "cell_type": "markdown",
   "source": [
    "### 7. Math Library\n",
    "``` Python\n",
    "import math\n",
    "\n",
    "# Using math library functions\n",
    "log_result = math.log(10)  # Natural logarithm of 10\n",
    "sin_result = math.sin(math.radians(30))  # Sine of 30 degrees\n",
    "floor_result = math.floor(4.75)  # Floor of 4.75\n",
    "ceil_result = math.ceil(4.25)  # Ceil of 4.25\n",
    "```"
   ],
   "metadata": {
    "collapsed": false
   }
  },
  {
   "cell_type": "code",
   "execution_count": 21,
   "metadata": {
    "ExecuteTime": {
     "end_time": "2023-12-21T09:01:30.884557500Z",
     "start_time": "2023-12-21T09:01:30.852224500Z"
    }
   },
   "outputs": [
    {
     "name": "stdout",
     "output_type": "stream",
     "text": [
      "\n",
      "Math Library:\n",
      "Natural Logarithm of 10: 2.302585092994046\n",
      "Sine of 30 degrees: 0.49999999999999994\n",
      "Floor of 4.75: 4\n",
      "Ceil of 4.25: 5\n"
     ]
    }
   ],
   "source": [
    "import math\n",
    "\n",
    "# Using math library functions\n",
    "log_result = math.log(10)  # Natural logarithm of 10\n",
    "sin_result = math.sin(math.radians(30))  # Sine of 30 degrees\n",
    "floor_result = math.floor(4.75)  # Floor of 4.75\n",
    "ceil_result = math.ceil(4.25)  # Ceil of 4.25\n",
    "\n",
    "# Displaying Math Library Results\n",
    "print(\"\\nMath Library:\")\n",
    "print(\"Natural Logarithm of 10:\", log_result)\n",
    "print(\"Sine of 30 degrees:\", sin_result)\n",
    "print(\"Floor of 4.75:\", floor_result)\n",
    "print(\"Ceil of 4.25:\", ceil_result)"
   ]
  },
  {
   "cell_type": "markdown",
   "source": [
    "## **Exercises**\n",
    "### Exercise 1\n",
    "\n",
    "- Calculate the result of the expression: \\($\\frac{{(23 \\times 7) + 15}}{{4.2}}$\\).\n",
    "- Round the result to 3 decimal places."
   ],
   "metadata": {
    "collapsed": false
   }
  },
  {
   "cell_type": "code",
   "execution_count": 22,
   "outputs": [],
   "source": [
    "# Exercise 1\n",
    "\n",
    "\n",
    "\n",
    "\n"
   ],
   "metadata": {
    "collapsed": false,
    "ExecuteTime": {
     "end_time": "2023-12-21T09:01:30.944290800Z",
     "start_time": "2023-12-21T09:01:30.870015800Z"
    }
   }
  },
  {
   "cell_type": "markdown",
   "source": [
    "### Exercise 2\n",
    "\n",
    "- Create a variable `complex_number` with the value $5 + 3j$.\n",
    "- Extract and print the real and imaginary parts as separate integers."
   ],
   "metadata": {
    "collapsed": false
   }
  },
  {
   "cell_type": "code",
   "execution_count": 23,
   "outputs": [],
   "source": [
    "# Exercise 2\n",
    "\n",
    "\n",
    "\n",
    "\n"
   ],
   "metadata": {
    "collapsed": false,
    "ExecuteTime": {
     "end_time": "2023-12-21T09:01:30.948805900Z",
     "start_time": "2023-12-21T09:01:30.891248600Z"
    }
   }
  },
  {
   "cell_type": "markdown",
   "source": [
    "### Exercise 3\n",
    "\n",
    "- Calculate \\($e^3$\\) (where \\($e$\\) is the mathematical constant Euler's number).\n",
    "- Find the base 2 logarithm of 256."
   ],
   "metadata": {
    "collapsed": false
   }
  },
  {
   "cell_type": "code",
   "execution_count": 24,
   "outputs": [],
   "source": [
    "# Exercise 3\n",
    "\n",
    "\n",
    "\n",
    "\n"
   ],
   "metadata": {
    "collapsed": false,
    "ExecuteTime": {
     "end_time": "2023-12-21T09:01:30.972239600Z",
     "start_time": "2023-12-21T09:01:30.952234400Z"
    }
   }
  },
  {
   "cell_type": "markdown",
   "source": [
    "### Exercise 4\n",
    "\n",
    "- Calculate the cosine of 45 degrees.\n",
    "- Calculate the tangent of 60 degrees."
   ],
   "metadata": {
    "collapsed": false
   }
  },
  {
   "cell_type": "code",
   "execution_count": 25,
   "outputs": [],
   "source": [
    "# Exercise 4\n",
    "\n",
    "\n",
    "\n",
    "\n"
   ],
   "metadata": {
    "collapsed": false,
    "ExecuteTime": {
     "end_time": "2023-12-21T09:01:31.034680100Z",
     "start_time": "2023-12-21T09:01:30.975512200Z"
    }
   }
  },
  {
   "cell_type": "markdown",
   "source": [
    "### Exercise 5\n",
    "\n",
    "- Calculate the floor of \\($\\frac{17}{3}$\\).\n",
    "- Calculate the ceiling of \\($\\frac{25}{4}$\\)."
   ],
   "metadata": {
    "collapsed": false
   }
  },
  {
   "cell_type": "code",
   "execution_count": 26,
   "outputs": [],
   "source": [
    "# Exercise 5\n",
    "\n",
    "\n",
    "\n",
    "\n"
   ],
   "metadata": {
    "collapsed": false,
    "ExecuteTime": {
     "end_time": "2023-12-21T09:01:31.036678800Z",
     "start_time": "2023-12-21T09:01:30.996668400Z"
    }
   }
  },
  {
   "cell_type": "markdown",
   "source": [
    "### Exercise 6\n",
    "\n",
    "- Find the square root of the sum of squares of 3 and 4.\n",
    "- Calculate \\($2^{10}$\\) and round the result to the nearest integer."
   ],
   "metadata": {
    "collapsed": false
   }
  },
  {
   "cell_type": "code",
   "execution_count": 27,
   "outputs": [],
   "source": [
    "# Exercise 6\n",
    "\n",
    "\n",
    "\n",
    "\n"
   ],
   "metadata": {
    "collapsed": false,
    "ExecuteTime": {
     "end_time": "2023-12-21T09:01:31.060788700Z",
     "start_time": "2023-12-21T09:01:31.040245200Z"
    }
   }
  },
  {
   "cell_type": "markdown",
   "source": [
    "### Exercise 7\n",
    "\n",
    "- Create variables `x` and `y` with the values \\(0.1 + 0.2\\) and \\(0.3\\) respectively.\n",
    "- Check if `x` is equal to `y` and print the result."
   ],
   "metadata": {
    "collapsed": false
   }
  },
  {
   "cell_type": "code",
   "execution_count": 28,
   "outputs": [],
   "source": [
    "# Exercise 7\n",
    "\n",
    "\n",
    "\n",
    "\n"
   ],
   "metadata": {
    "collapsed": false,
    "ExecuteTime": {
     "end_time": "2023-12-21T09:01:31.068242500Z",
     "start_time": "2023-12-21T09:01:31.063729400Z"
    }
   }
  }
 ],
 "metadata": {
  "kernelspec": {
   "display_name": "Python 3 (ipykernel)",
   "language": "python",
   "name": "python3"
  },
  "language_info": {
   "codemirror_mode": {
    "name": "ipython",
    "version": 3
   },
   "file_extension": ".py",
   "mimetype": "text/x-python",
   "name": "python",
   "nbconvert_exporter": "python",
   "pygments_lexer": "ipython3",
   "version": "3.11.5"
  }
 },
 "nbformat": 4,
 "nbformat_minor": 2
}
